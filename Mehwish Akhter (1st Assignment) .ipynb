{
 "cells": [
  {
   "cell_type": "code",
   "execution_count": 1,
   "metadata": {},
   "outputs": [
    {
     "name": "stdout",
     "output_type": "stream",
     "text": [
      " \n",
      "Twinkle, twinkle, little star,\n",
      "        How I wonder what you are!\n",
      "                Up above the world so high,\n",
      "                Like a diamond in the sky.\n",
      "Twinkle, twinkle, little star,\n",
      "        How I wonder what you are.\n",
      "\n"
     ]
    }
   ],
   "source": [
    "# Question No.1:\n",
    "\n",
    "poem= ''' \n",
    "Twinkle, twinkle, little star,\n",
    "        How I wonder what you are!\n",
    "                Up above the world so high,\n",
    "                Like a diamond in the sky.\n",
    "Twinkle, twinkle, little star,\n",
    "        How I wonder what you are.\n",
    "'''\n",
    "print(poem)"
   ]
  },
  {
   "cell_type": "code",
   "execution_count": 2,
   "metadata": {},
   "outputs": [
    {
     "name": "stdout",
     "output_type": "stream",
     "text": [
      "3.7.4\n",
      "3.7.4 (default, Aug  9 2019, 18:22:51) [MSC v.1915 32 bit (Intel)]\n"
     ]
    }
   ],
   "source": [
    "# Question No.2\n",
    "\n",
    "import platform\n",
    "print(platform.python_version())\n",
    "\n",
    "import sys\n",
    "print (sys.version)\n"
   ]
  },
  {
   "cell_type": "code",
   "execution_count": 3,
   "metadata": {},
   "outputs": [
    {
     "name": "stdout",
     "output_type": "stream",
     "text": [
      "Current Date & Time: 2019-10-31 21:36:00.406615\n"
     ]
    }
   ],
   "source": [
    "# Question No.3:\n",
    "\n",
    "import datetime\n",
    "\n",
    "current_time= datetime.datetime.now()\n",
    "print(\"Current Date & Time:\", current_time)"
   ]
  },
  {
   "cell_type": "code",
   "execution_count": 11,
   "metadata": {},
   "outputs": [
    {
     "name": "stdout",
     "output_type": "stream",
     "text": [
      "Radius of the circle is = 20\n",
      "Area of the circle having radius of 20.0 is = 1256.6370614359173\n"
     ]
    }
   ],
   "source": [
    "# Question No.4:\n",
    "\n",
    "from math import pi\n",
    "\n",
    "radius= float(input('Radius of the circle is = '))\n",
    "print('Area of the circle having radius of ' + str(radius) + ' is = ' + str(pi * radius**2))"
   ]
  },
  {
   "cell_type": "code",
   "execution_count": 12,
   "metadata": {},
   "outputs": [
    {
     "name": "stdout",
     "output_type": "stream",
     "text": [
      "First name : Mehwish\n",
      "Last name : Akhter\n",
      " Akhter  Mehwish\n",
      " Akhter  Mehwish\n"
     ]
    }
   ],
   "source": [
    "# Question No.5:\n",
    "\n",
    "first_name= input('First name :')\n",
    "last_name= input('Last name :')\n",
    "\n",
    "print(last_name + ' ' + first_name)\n",
    "#or\n",
    "print(last_name , first_name)\n"
   ]
  },
  {
   "cell_type": "code",
   "execution_count": null,
   "metadata": {},
   "outputs": [],
   "source": []
  }
 ],
 "metadata": {
  "kernelspec": {
   "display_name": "Python 3",
   "language": "python",
   "name": "python3"
  },
  "language_info": {
   "codemirror_mode": {
    "name": "ipython",
    "version": 3
   },
   "file_extension": ".py",
   "mimetype": "text/x-python",
   "name": "python",
   "nbconvert_exporter": "python",
   "pygments_lexer": "ipython3",
   "version": "3.7.4"
  }
 },
 "nbformat": 4,
 "nbformat_minor": 2
}
